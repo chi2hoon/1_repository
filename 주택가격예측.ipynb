{
 "cells": [
  {
   "cell_type": "markdown",
   "id": "446cac76",
   "metadata": {},
   "source": [
    "# 데이터 로드 & 패키지 임포트"
   ]
  },
  {
   "cell_type": "code",
   "execution_count": 1,
   "id": "9f6468f0-e5bc-4138-9877-649a5157ecf9",
   "metadata": {},
   "outputs": [
    {
     "data": {
      "text/html": [
       "<div>\n",
       "<style scoped>\n",
       "    .dataframe tbody tr th:only-of-type {\n",
       "        vertical-align: middle;\n",
       "    }\n",
       "\n",
       "    .dataframe tbody tr th {\n",
       "        vertical-align: top;\n",
       "    }\n",
       "\n",
       "    .dataframe thead th {\n",
       "        text-align: right;\n",
       "    }\n",
       "</style>\n",
       "<table border=\"1\" class=\"dataframe\">\n",
       "  <thead>\n",
       "    <tr style=\"text-align: right;\">\n",
       "      <th></th>\n",
       "      <th>Id</th>\n",
       "      <th>MSSubClass</th>\n",
       "      <th>MSZoning</th>\n",
       "      <th>LotFrontage</th>\n",
       "      <th>LotArea</th>\n",
       "      <th>Street</th>\n",
       "      <th>Alley</th>\n",
       "      <th>LotShape</th>\n",
       "      <th>LandContour</th>\n",
       "      <th>Utilities</th>\n",
       "      <th>...</th>\n",
       "      <th>PoolArea</th>\n",
       "      <th>PoolQC</th>\n",
       "      <th>Fence</th>\n",
       "      <th>MiscFeature</th>\n",
       "      <th>MiscVal</th>\n",
       "      <th>MoSold</th>\n",
       "      <th>YrSold</th>\n",
       "      <th>SaleType</th>\n",
       "      <th>SaleCondition</th>\n",
       "      <th>SalePrice</th>\n",
       "    </tr>\n",
       "  </thead>\n",
       "  <tbody>\n",
       "    <tr>\n",
       "      <th>0</th>\n",
       "      <td>968</td>\n",
       "      <td>20</td>\n",
       "      <td>RL</td>\n",
       "      <td>NaN</td>\n",
       "      <td>7390</td>\n",
       "      <td>Pave</td>\n",
       "      <td>NaN</td>\n",
       "      <td>IR1</td>\n",
       "      <td>Lvl</td>\n",
       "      <td>AllPub</td>\n",
       "      <td>...</td>\n",
       "      <td>0</td>\n",
       "      <td>NaN</td>\n",
       "      <td>NaN</td>\n",
       "      <td>NaN</td>\n",
       "      <td>0</td>\n",
       "      <td>7</td>\n",
       "      <td>2008</td>\n",
       "      <td>WD</td>\n",
       "      <td>Normal</td>\n",
       "      <td>135000</td>\n",
       "    </tr>\n",
       "    <tr>\n",
       "      <th>1</th>\n",
       "      <td>739</td>\n",
       "      <td>90</td>\n",
       "      <td>RL</td>\n",
       "      <td>60.0</td>\n",
       "      <td>10800</td>\n",
       "      <td>Pave</td>\n",
       "      <td>NaN</td>\n",
       "      <td>Reg</td>\n",
       "      <td>Lvl</td>\n",
       "      <td>AllPub</td>\n",
       "      <td>...</td>\n",
       "      <td>0</td>\n",
       "      <td>NaN</td>\n",
       "      <td>NaN</td>\n",
       "      <td>NaN</td>\n",
       "      <td>0</td>\n",
       "      <td>3</td>\n",
       "      <td>2009</td>\n",
       "      <td>WD</td>\n",
       "      <td>Alloca</td>\n",
       "      <td>179000</td>\n",
       "    </tr>\n",
       "    <tr>\n",
       "      <th>2</th>\n",
       "      <td>696</td>\n",
       "      <td>20</td>\n",
       "      <td>RL</td>\n",
       "      <td>54.0</td>\n",
       "      <td>13811</td>\n",
       "      <td>Pave</td>\n",
       "      <td>NaN</td>\n",
       "      <td>IR1</td>\n",
       "      <td>Lvl</td>\n",
       "      <td>AllPub</td>\n",
       "      <td>...</td>\n",
       "      <td>0</td>\n",
       "      <td>NaN</td>\n",
       "      <td>NaN</td>\n",
       "      <td>NaN</td>\n",
       "      <td>0</td>\n",
       "      <td>7</td>\n",
       "      <td>2006</td>\n",
       "      <td>WD</td>\n",
       "      <td>Normal</td>\n",
       "      <td>176000</td>\n",
       "    </tr>\n",
       "  </tbody>\n",
       "</table>\n",
       "<p>3 rows × 81 columns</p>\n",
       "</div>"
      ],
      "text/plain": [
       "    Id  MSSubClass MSZoning  LotFrontage  LotArea Street Alley LotShape  \\\n",
       "0  968          20       RL          NaN     7390   Pave   NaN      IR1   \n",
       "1  739          90       RL         60.0    10800   Pave   NaN      Reg   \n",
       "2  696          20       RL         54.0    13811   Pave   NaN      IR1   \n",
       "\n",
       "  LandContour Utilities  ... PoolArea PoolQC Fence MiscFeature MiscVal MoSold  \\\n",
       "0         Lvl    AllPub  ...        0    NaN   NaN         NaN       0      7   \n",
       "1         Lvl    AllPub  ...        0    NaN   NaN         NaN       0      3   \n",
       "2         Lvl    AllPub  ...        0    NaN   NaN         NaN       0      7   \n",
       "\n",
       "  YrSold  SaleType  SaleCondition  SalePrice  \n",
       "0   2008        WD         Normal     135000  \n",
       "1   2009        WD         Alloca     179000  \n",
       "2   2006        WD         Normal     176000  \n",
       "\n",
       "[3 rows x 81 columns]"
      ]
     },
     "execution_count": 1,
     "metadata": {},
     "output_type": "execute_result"
    }
   ],
   "source": [
    "import warnings\n",
    "warnings.filterwarnings('ignore')\n",
    "import pandas as pd\n",
    "import numpy as np\n",
    "import seaborn as sns\n",
    "import matplotlib.pyplot as plt\n",
    "%matplotlib inline\n",
    "\n",
    "house_df_org = pd.read_csv('/Users/kenny/데싸4기/Project/Quest 07/train.csv')\n",
    "house_df = house_df_org.copy()\n",
    "house_df.head(3)"
   ]
  },
  {
   "cell_type": "markdown",
   "id": "827b0f17",
   "metadata": {},
   "source": [
    "# 데이터 전처리"
   ]
  },
  {
   "cell_type": "code",
   "execution_count": 2,
   "id": "db8aab6c",
   "metadata": {},
   "outputs": [
    {
     "name": "stdout",
     "output_type": "stream",
     "text": [
      "결측치가 있는 컬럼 수: 19\n"
     ]
    },
    {
     "data": {
      "text/html": [
       "<div>\n",
       "<style scoped>\n",
       "    .dataframe tbody tr th:only-of-type {\n",
       "        vertical-align: middle;\n",
       "    }\n",
       "\n",
       "    .dataframe tbody tr th {\n",
       "        vertical-align: top;\n",
       "    }\n",
       "\n",
       "    .dataframe thead th {\n",
       "        text-align: right;\n",
       "    }\n",
       "</style>\n",
       "<table border=\"1\" class=\"dataframe\">\n",
       "  <thead>\n",
       "    <tr style=\"text-align: right;\">\n",
       "      <th></th>\n",
       "      <th>결측치 개수</th>\n",
       "      <th>ratio(%)</th>\n",
       "    </tr>\n",
       "  </thead>\n",
       "  <tbody>\n",
       "    <tr>\n",
       "      <th>PoolQC</th>\n",
       "      <td>1162</td>\n",
       "      <td>99.49</td>\n",
       "    </tr>\n",
       "    <tr>\n",
       "      <th>MiscFeature</th>\n",
       "      <td>1120</td>\n",
       "      <td>95.89</td>\n",
       "    </tr>\n",
       "    <tr>\n",
       "      <th>Alley</th>\n",
       "      <td>1098</td>\n",
       "      <td>94.01</td>\n",
       "    </tr>\n",
       "    <tr>\n",
       "      <th>Fence</th>\n",
       "      <td>941</td>\n",
       "      <td>80.57</td>\n",
       "    </tr>\n",
       "    <tr>\n",
       "      <th>MasVnrType</th>\n",
       "      <td>694</td>\n",
       "      <td>59.42</td>\n",
       "    </tr>\n",
       "    <tr>\n",
       "      <th>FireplaceQu</th>\n",
       "      <td>545</td>\n",
       "      <td>46.66</td>\n",
       "    </tr>\n",
       "    <tr>\n",
       "      <th>LotFrontage</th>\n",
       "      <td>218</td>\n",
       "      <td>18.66</td>\n",
       "    </tr>\n",
       "    <tr>\n",
       "      <th>GarageType</th>\n",
       "      <td>69</td>\n",
       "      <td>5.91</td>\n",
       "    </tr>\n",
       "    <tr>\n",
       "      <th>GarageYrBlt</th>\n",
       "      <td>69</td>\n",
       "      <td>5.91</td>\n",
       "    </tr>\n",
       "    <tr>\n",
       "      <th>GarageFinish</th>\n",
       "      <td>69</td>\n",
       "      <td>5.91</td>\n",
       "    </tr>\n",
       "    <tr>\n",
       "      <th>GarageQual</th>\n",
       "      <td>69</td>\n",
       "      <td>5.91</td>\n",
       "    </tr>\n",
       "    <tr>\n",
       "      <th>GarageCond</th>\n",
       "      <td>69</td>\n",
       "      <td>5.91</td>\n",
       "    </tr>\n",
       "    <tr>\n",
       "      <th>BsmtFinType2</th>\n",
       "      <td>24</td>\n",
       "      <td>2.05</td>\n",
       "    </tr>\n",
       "    <tr>\n",
       "      <th>BsmtExposure</th>\n",
       "      <td>24</td>\n",
       "      <td>2.05</td>\n",
       "    </tr>\n",
       "    <tr>\n",
       "      <th>BsmtFinType1</th>\n",
       "      <td>23</td>\n",
       "      <td>1.97</td>\n",
       "    </tr>\n",
       "    <tr>\n",
       "      <th>BsmtCond</th>\n",
       "      <td>23</td>\n",
       "      <td>1.97</td>\n",
       "    </tr>\n",
       "    <tr>\n",
       "      <th>BsmtQual</th>\n",
       "      <td>23</td>\n",
       "      <td>1.97</td>\n",
       "    </tr>\n",
       "    <tr>\n",
       "      <th>MasVnrArea</th>\n",
       "      <td>8</td>\n",
       "      <td>0.68</td>\n",
       "    </tr>\n",
       "    <tr>\n",
       "      <th>Electrical</th>\n",
       "      <td>1</td>\n",
       "      <td>0.09</td>\n",
       "    </tr>\n",
       "  </tbody>\n",
       "</table>\n",
       "</div>"
      ],
      "text/plain": [
       "              결측치 개수  ratio(%)\n",
       "PoolQC          1162     99.49\n",
       "MiscFeature     1120     95.89\n",
       "Alley           1098     94.01\n",
       "Fence            941     80.57\n",
       "MasVnrType       694     59.42\n",
       "FireplaceQu      545     46.66\n",
       "LotFrontage      218     18.66\n",
       "GarageType        69      5.91\n",
       "GarageYrBlt       69      5.91\n",
       "GarageFinish      69      5.91\n",
       "GarageQual        69      5.91\n",
       "GarageCond        69      5.91\n",
       "BsmtFinType2      24      2.05\n",
       "BsmtExposure      24      2.05\n",
       "BsmtFinType1      23      1.97\n",
       "BsmtCond          23      1.97\n",
       "BsmtQual          23      1.97\n",
       "MasVnrArea         8      0.68\n",
       "Electrical         1      0.09"
      ]
     },
     "metadata": {},
     "output_type": "display_data"
    },
    {
     "data": {
      "image/png": "[encoded data removed]",
      "text/plain": [
       "<Figure size 1200x600 with 1 Axes>"
      ]
     },
     "metadata": {},
     "output_type": "display_data"
    }
   ],
   "source": [
    "\n",
    "# 결측치 분석\n",
    "missing_values = house_df.isnull().sum()\n",
    "missing_values = missing_values[missing_values > 0]  # 결측치가 있는 컬럼만 선택\n",
    "missing_values = pd.DataFrame({\n",
    "    '결측치 개수': missing_values,\n",
    "    'ratio(%)': (missing_values / len(house_df) * 100).round(2)\n",
    "})\n",
    "missing_values = missing_values.sort_values('결측치 개수', ascending=False)\n",
    "print('결측치가 있는 컬럼 수:', len(missing_values))\n",
    "display(missing_values)\n",
    "\n",
    "# 결측치 시각화\n",
    "plt.figure(figsize=(12, 6))\n",
    "sns.barplot(x=missing_values.index, y='ratio(%)', data=missing_values)\n",
    "plt.xticks(rotation=45, ha='right')\n",
    "plt.title('ratio of missing values')\n",
    "plt.tight_layout()\n",
    "plt.show()"
   ]
  },
  {
   "cell_type": "code",
   "execution_count": 3,
   "id": "74b7fd3d",
   "metadata": {},
   "outputs": [
    {
     "name": "stdout",
     "output_type": "stream",
     "text": [
      "<class 'pandas.core.frame.DataFrame'>\n",
      "RangeIndex: 1168 entries, 0 to 1167\n",
      "Data columns (total 81 columns):\n",
      " #   Column         Non-Null Count  Dtype  \n",
      "---  ------         --------------  -----  \n",
      " 0   Id             1168 non-null   int64  \n",
      " 1   MSSubClass     1168 non-null   int64  \n",
      " 2   MSZoning       1168 non-null   object \n",
      " 3   LotFrontage    950 non-null    float64\n",
      " 4   LotArea        1168 non-null   int64  \n",
      " 5   Street         1168 non-null   object \n",
      " 6   Alley          70 non-null     object \n",
      " 7   LotShape       1168 non-null   object \n",
      " 8   LandContour    1168 non-null   object \n",
      " 9   Utilities      1168 non-null   object \n",
      " 10  LotConfig      1168 non-null   object \n",
      " 11  LandSlope      1168 non-null   object \n",
      " 12  Neighborhood   1168 non-null   object \n",
      " 13  Condition1     1168 non-null   object \n",
      " 14  Condition2     1168 non-null   object \n",
      " 15  BldgType       1168 non-null   object \n",
      " 16  HouseStyle     1168 non-null   object \n",
      " 17  OverallQual    1168 non-null   int64  \n",
      " 18  OverallCond    1168 non-null   int64  \n",
      " 19  YearBuilt      1168 non-null   int64  \n",
      " 20  YearRemodAdd   1168 non-null   int64  \n",
      " 21  RoofStyle      1168 non-null   object \n",
      " 22  RoofMatl       1168 non-null   object \n",
      " 23  Exterior1st    1168 non-null   object \n",
      " 24  Exterior2nd    1168 non-null   object \n",
      " 25  MasVnrType     474 non-null    object \n",
      " 26  MasVnrArea     1160 non-null   float64\n",
      " 27  ExterQual      1168 non-null   object \n",
      " 28  ExterCond      1168 non-null   object \n",
      " 29  Foundation     1168 non-null   object \n",
      " 30  BsmtQual       1145 non-null   object \n",
      " 31  BsmtCond       1145 non-null   object \n",
      " 32  BsmtExposure   1144 non-null   object \n",
      " 33  BsmtFinType1   1145 non-null   object \n",
      " 34  BsmtFinSF1     1168 non-null   int64  \n",
      " 35  BsmtFinType2   1144 non-null   object \n",
      " 36  BsmtFinSF2     1168 non-null   int64  \n",
      " 37  BsmtUnfSF      1168 non-null   int64  \n",
      " 38  TotalBsmtSF    1168 non-null   int64  \n",
      " 39  Heating        1168 non-null   object \n",
      " 40  HeatingQC      1168 non-null   object \n",
      " 41  CentralAir     1168 non-null   object \n",
      " 42  Electrical     1167 non-null   object \n",
      " 43  1stFlrSF       1168 non-null   int64  \n",
      " 44  2ndFlrSF       1168 non-null   int64  \n",
      " 45  LowQualFinSF   1168 non-null   int64  \n",
      " 46  GrLivArea      1168 non-null   int64  \n",
      " 47  BsmtFullBath   1168 non-null   int64  \n",
      " 48  BsmtHalfBath   1168 non-null   int64  \n",
      " 49  FullBath       1168 non-null   int64  \n",
      " 50  HalfBath       1168 non-null   int64  \n",
      " 51  BedroomAbvGr   1168 non-null   int64  \n",
      " 52  KitchenAbvGr   1168 non-null   int64  \n",
      " 53  KitchenQual    1168 non-null   object \n",
      " 54  TotRmsAbvGrd   1168 non-null   int64  \n",
      " 55  Functional     1168 non-null   object \n",
      " 56  Fireplaces     1168 non-null   int64  \n",
      " 57  FireplaceQu    623 non-null    object \n",
      " 58  GarageType     1099 non-null   object \n",
      " 59  GarageYrBlt    1099 non-null   float64\n",
      " 60  GarageFinish   1099 non-null   object \n",
      " 61  GarageCars     1168 non-null   int64  \n",
      " 62  GarageArea     1168 non-null   int64  \n",
      " 63  GarageQual     1099 non-null   object \n",
      " 64  GarageCond     1099 non-null   object \n",
      " 65  PavedDrive     1168 non-null   object \n",
      " 66  WoodDeckSF     1168 non-null   int64  \n",
      " 67  OpenPorchSF    1168 non-null   int64  \n",
      " 68  EnclosedPorch  1168 non-null   int64  \n",
      " 69  3SsnPorch      1168 non-null   int64  \n",
      " 70  ScreenPorch    1168 non-null   int64  \n",
      " 71  PoolArea       1168 non-null   int64  \n",
      " 72  PoolQC         6 non-null      object \n",
      " 73  Fence          227 non-null    object \n",
      " 74  MiscFeature    48 non-null     object \n",
      " 75  MiscVal        1168 non-null   int64  \n",
      " 76  MoSold         1168 non-null   int64  \n",
      " 77  YrSold         1168 non-null   int64  \n",
      " 78  SaleType       1168 non-null   object \n",
      " 79  SaleCondition  1168 non-null   object \n",
      " 80  SalePrice      1168 non-null   int64  \n",
      "dtypes: float64(3), int64(35), object(43)\n",
      "memory usage: 739.3+ KB\n"
     ]
    }
   ],
   "source": [
    "house_df.info()"
   ]
  },
  {
   "cell_type": "code",
   "execution_count": 4,
   "id": "faeab003",
   "metadata": {},
   "outputs": [
    {
     "data": {
      "text/plain": [
       "PoolQC          1162\n",
       "MiscFeature     1120\n",
       "Alley           1098\n",
       "Fence            941\n",
       "MasVnrType       694\n",
       "FireplaceQu      545\n",
       "LotFrontage      218\n",
       "GarageType        69\n",
       "GarageYrBlt       69\n",
       "GarageFinish      69\n",
       "GarageQual        69\n",
       "GarageCond        69\n",
       "BsmtFinType2      24\n",
       "BsmtExposure      24\n",
       "BsmtFinType1      23\n",
       "BsmtCond          23\n",
       "BsmtQual          23\n",
       "MasVnrArea         8\n",
       "Electrical         1\n",
       "dtype: int64"
      ]
     },
     "metadata": {},
     "output_type": "display_data"
    }
   ],
   "source": [
    "# 3. 남은 결측치 확인\n",
    "missing = house_df.isnull().sum()\n",
    "display(missing[missing > 0].sort_values(ascending=False))\n"
   ]
  },
  {
   "cell_type": "code",
   "execution_count": 5,
   "id": "6a8aa75b",
   "metadata": {},
   "outputs": [
    {
     "name": "stdout",
     "output_type": "stream",
     "text": [
      "LotFrontage -> median(69.0) 로 채움\n",
      "MasVnrArea -> median(0.0) 로 채움\n",
      "GarageYrBlt -> median(1980.0) 로 채움\n"
     ]
    }
   ],
   "source": [
    "# 4. 수치형 결측치는 중앙값으로 채우기\n",
    "num_cols = house_df.select_dtypes(include=['int64','float64']).columns\n",
    "for col in num_cols:\n",
    "    if house_df[col].isnull().any():\n",
    "        median_val = house_df[col].median()\n",
    "        house_df[col].fillna(median_val, inplace=True)\n",
    "        print(f\"{col} -> median({median_val}) 로 채움\")"
   ]
  },
  {
   "cell_type": "code",
   "execution_count": 6,
   "id": "5de19e20",
   "metadata": {},
   "outputs": [
    {
     "name": "stdout",
     "output_type": "stream",
     "text": [
      "Alley -> 'None' 으로 채움\n",
      "MasVnrType -> 'None' 으로 채움\n",
      "BsmtQual -> 'None' 으로 채움\n",
      "BsmtCond -> 'None' 으로 채움\n",
      "BsmtExposure -> 'None' 으로 채움\n",
      "BsmtFinType1 -> 'None' 으로 채움\n",
      "BsmtFinType2 -> 'None' 으로 채움\n",
      "Electrical -> 'None' 으로 채움\n",
      "FireplaceQu -> 'None' 으로 채움\n",
      "GarageType -> 'None' 으로 채움\n",
      "GarageFinish -> 'None' 으로 채움\n",
      "GarageQual -> 'None' 으로 채움\n",
      "GarageCond -> 'None' 으로 채움\n",
      "PoolQC -> 'None' 으로 채움\n",
      "Fence -> 'None' 으로 채움\n",
      "MiscFeature -> 'None' 으로 채움\n"
     ]
    }
   ],
   "source": [
    "# 5. 범주형 결측치는 'None' 으로 채우기\n",
    "cat_cols = house_df.select_dtypes(include=['object']).columns\n",
    "for col in cat_cols:\n",
    "    if house_df[col].isnull().any():\n",
    "        house_df[col].fillna('None', inplace=True)\n",
    "        print(f\"{col} -> 'None' 으로 채움\")\n"
   ]
  },
  {
   "cell_type": "code",
   "execution_count": 7,
   "id": "1b9d77d5",
   "metadata": {},
   "outputs": [
    {
     "name": "stdout",
     "output_type": "stream",
     "text": [
      "\n",
      "남은 결측치 개수:\n",
      " 0\n"
     ]
    }
   ],
   "source": [
    "# 6. 다시 한 번 결측치 확인\n",
    "print(\"\\n남은 결측치 개수:\\n\", house_df.isnull().sum().sum())"
   ]
  },
  {
   "cell_type": "markdown",
   "id": "648f13ef",
   "metadata": {},
   "source": [
    "- 수치형(median): 평균(mean)은 이상치에 민감하지만, 중앙값(median)은 극단치에 덜 민감해서 보다 안정적으로 결측을 보완해 줍니다.\n",
    "\n",
    "- 범주형('None'): 원래 값이 없는 의미(No Garage, No Basement 등)를 보존하기 위해 빈 문자열 대신 명시적인 'None' 카테고리로 채웁니다."
   ]
  },
  {
   "cell_type": "code",
   "execution_count": 8,
   "id": "a42c1f3a",
   "metadata": {},
   "outputs": [
    {
     "data": {
      "image/png": "[encoded data removed]",
      "text/plain": [
       "<Figure size 640x480 with 1 Axes>"
      ]
     },
     "metadata": {},
     "output_type": "display_data"
    },
    {
     "data": {
      "image/png": "[encoded data removed]",
      "text/plain": [
       "<Figure size 640x480 with 1 Axes>"
      ]
     },
     "metadata": {},
     "output_type": "display_data"
    },
    {
     "data": {
      "image/png": "[encoded data removed]",
      "text/plain": [
       "<Figure size 640x480 with 1 Axes>"
      ]
     },
     "metadata": {},
     "output_type": "display_data"
    }
   ],
   "source": [
    "numeric_cols = ['SalePrice', 'GrLivArea', 'LotArea']\n",
    "for col in numeric_cols:\n",
    "    plt.figure()\n",
    "    plt.hist(house_df[col], bins=30)\n",
    "    plt.xlabel(col)\n",
    "    plt.ylabel('Count')\n",
    "    plt.title(f'{col} distribution')\n",
    "    plt.show()"
   ]
  },
  {
   "cell_type": "markdown",
   "id": "e7c9efd7",
   "metadata": {},
   "source": [
    "> 세 컬럼 모두 우측첨도를 보임. 로그변환을 정규분포에 근사하는 작업을 통해 문제해결"
   ]
  },
  {
   "cell_type": "code",
   "execution_count": 9,
   "id": "c48b742c",
   "metadata": {},
   "outputs": [
    {
     "data": {
      "image/png": "[encoded data removed]",
      "text/plain": [
       "<Figure size 640x480 with 1 Axes>"
      ]
     },
     "metadata": {},
     "output_type": "display_data"
    },
    {
     "data": {
      "image/png": "[encoded data removed]",
      "text/plain": [
       "<Figure size 640x480 with 1 Axes>"
      ]
     },
     "metadata": {},
     "output_type": "display_data"
    },
    {
     "data": {
      "image/png": "[encoded data removed]",
      "text/plain": [
       "<Figure size 640x480 with 1 Axes>"
      ]
     },
     "metadata": {},
     "output_type": "display_data"
    }
   ],
   "source": [
    "# 1) 로그 변환할 컬럼 리스트 지정\n",
    "log_cols = ['SalePrice', 'GrLivArea', 'LotArea']\n",
    "\n",
    "# 2) np.log1p()로 변환  (log(1 + x) 형태로, 0값 처리에 안전)\n",
    "house_df[log_cols] = house_df[log_cols].apply(np.log1p)\n",
    "\n",
    "# 3) 변환 결과 확인용 히스토그램 그리기\n",
    "for col in log_cols:\n",
    "    plt.figure()\n",
    "    plt.hist(house_df[col], bins=30)\n",
    "    plt.xlabel(f'log1p({col})')\n",
    "    plt.ylabel('Count')\n",
    "    plt.title(f'{col} after log transformation')\n",
    "    plt.show()"
   ]
  },
  {
   "cell_type": "code",
   "execution_count": 10,
   "id": "81868bc0",
   "metadata": {},
   "outputs": [],
   "source": [
    "# ───────── ❶ Feature Engineering ─────────\n",
    "# 1. 주거 면적 총합\n",
    "house_df['TotalSF'] = (\n",
    "    house_df['TotalBsmtSF'] + house_df['1stFlrSF'] + house_df['2ndFlrSF']\n",
    ")\n",
    "\n",
    "# 2. 전체 현관·베란다 면적\n",
    "house_df['TotalPorchSF'] = (\n",
    "    house_df[['OpenPorchSF','EnclosedPorch','3SsnPorch','ScreenPorch']].sum(axis=1)\n",
    ")\n",
    "\n",
    "# 3. 건축 후 경과연수 & 리모델링 경과연수 (2025년 기준)\n",
    "house_df['HouseAge']  = 2025 - house_df['YearBuilt']\n",
    "house_df['RemodAge']  = 2025 - house_df['YearRemodAdd']\n",
    "\n",
    "# 4. 품질*면적 상호작용\n",
    "house_df['OverallQual_GrLivArea'] = house_df['OverallQual'] * house_df['GrLivArea']\n"
   ]
  },
  {
   "cell_type": "code",
   "execution_count": 11,
   "id": "1b9598f2",
   "metadata": {},
   "outputs": [
    {
     "name": "stdout",
     "output_type": "stream",
     "text": [
      "Id: [15.67 ~ 1443.33] 범위로 캡핑 완료\n",
      "MSSubClass: [20.00 ~ 190.00] 범위로 캡핑 완료\n",
      "LotFrontage: [21.00 ~ 137.99] 범위로 캡핑 완료\n",
      "LotArea: [7.43 ~ 10.41] 범위로 캡핑 완료\n",
      "OverallQual: [3.00 ~ 10.00] 범위로 캡핑 완료\n",
      "OverallCond: [3.00 ~ 9.00] 범위로 캡핑 완료\n",
      "YearBuilt: [1899.34 ~ 2009.00] 범위로 캡핑 완료\n",
      "YearRemodAdd: [1950.00 ~ 2009.00] 범위로 캡핑 완료\n",
      "MasVnrArea: [0.00 ~ 779.92] 범위로 캡핑 완료\n",
      "BsmtFinSF1: [0.00 ~ 1583.89] 범위로 캡핑 완료\n",
      "BsmtFinSF2: [0.00 ~ 716.30] 범위로 캡핑 완료\n",
      "BsmtUnfSF: [0.00 ~ 1769.98] 범위로 캡핑 완료\n",
      "TotalBsmtSF: [0.00 ~ 2177.14] 범위로 캡핑 완료\n",
      "1stFlrSF: [520.00 ~ 2226.63] 범위로 캡핑 완료\n",
      "2ndFlrSF: [0.00 ~ 1431.29] 범위로 캡핑 완료\n",
      "LowQualFinSF: [0.00 ~ 232.66] 범위로 캡핑 완료\n",
      "GrLivArea: [6.49 ~ 8.07] 범위로 캡핑 완료\n",
      "BsmtFullBath: [0.00 ~ 1.33] 범위로 캡핑 완료\n",
      "BsmtHalfBath: [0.00 ~ 1.00] 범위로 캡핑 완료\n",
      "FullBath: [1.00 ~ 3.00] 범위로 캡핑 완료\n",
      "HalfBath: [0.00 ~ 1.00] 범위로 캡핑 완료\n",
      "BedroomAbvGr: [1.00 ~ 5.00] 범위로 캡핑 완료\n",
      "KitchenAbvGr: [1.00 ~ 2.00] 범위로 캡핑 완료\n",
      "TotRmsAbvGrd: [3.00 ~ 11.00] 범위로 캡핑 완료\n",
      "Fireplaces: [0.00 ~ 2.00] 범위로 캡핑 완료\n",
      "GarageYrBlt: [1916.00 ~ 2009.00] 범위로 캡핑 완료\n",
      "GarageCars: [0.00 ~ 3.00] 범위로 캡핑 완료\n",
      "GarageArea: [0.00 ~ 993.23] 범위로 캡핑 완료\n",
      "WoodDeckSF: [0.00 ~ 509.66] 범위로 캡핑 완료\n",
      "OpenPorchSF: [0.00 ~ 291.33] 범위로 캡핑 완료\n",
      "EnclosedPorch: [0.00 ~ 265.32] 범위로 캡핑 완료\n",
      "3SsnPorch: [0.00 ~ 146.97] 범위로 캡핑 완료\n",
      "ScreenPorch: [0.00 ~ 273.99] 범위로 캡핑 완료\n",
      "PoolArea: [0.00 ~ 0.00] 범위로 캡핑 완료\n",
      "MiscVal: [0.00 ~ 915.50] 범위로 캡핑 완료\n",
      "MoSold: [1.00 ~ 12.00] 범위로 캡핑 완료\n",
      "YrSold: [2006.00 ~ 2010.00] 범위로 캡핑 완료\n",
      "SalePrice: [11.01 ~ 13.01] 범위로 캡핑 완료\n",
      "TotalSF: [1040.00 ~ 4871.55] 범위로 캡핑 완료\n",
      "TotalPorchSF: [0.00 ~ 421.65] 범위로 캡핑 완료\n",
      "HouseAge: [16.00 ~ 125.66] 범위로 캡핑 완료\n",
      "RemodAge: [16.00 ~ 75.00] 범위로 캡핑 완료\n",
      "OverallQual_GrLivArea: [21.21 ~ 76.20] 범위로 캡핑 완료\n"
     ]
    },
    {
     "data": {
      "image/png": "[encoded data removed]",
      "text/plain": [
       "<Figure size 640x480 with 1 Axes>"
      ]
     },
     "metadata": {},
     "output_type": "display_data"
    }
   ],
   "source": [
    "# 1) 캡핑할 수치형 컬럼 자동 탐색\n",
    "num_cols = house_df.select_dtypes(include=['int64','float64']).columns.tolist()\n",
    "\n",
    "# 2) 하위 1%, 상위 99% 구하기\n",
    "lower_bounds = house_df[num_cols].quantile(0.01)\n",
    "upper_bounds = house_df[num_cols].quantile(0.99)\n",
    "\n",
    "# 3) clip()으로 이상치 캡핑\n",
    "for col in num_cols:\n",
    "    lb = lower_bounds[col]\n",
    "    ub = upper_bounds[col]\n",
    "    house_df[col] = house_df[col].clip(lb, ub)\n",
    "    print(f\"{col}: [{lb:.2f} ~ {ub:.2f}] 범위로 캡핑 완료\")\n",
    "\n",
    "# 4) 캡핑 후 분포 확인 (예: SalePrice)\n",
    "import matplotlib.pyplot as plt\n",
    "\n",
    "plt.hist(house_df['SalePrice'], bins=30)\n",
    "plt.xlabel('log1p(SalePrice)')\n",
    "plt.ylabel('Count')\n",
    "plt.title('SalePrice distribution')\n",
    "plt.show()\n"
   ]
  },
  {
   "cell_type": "markdown",
   "id": "3bf6396d",
   "metadata": {},
   "source": [
    "- 상·하위 1% 극단치는 전체 학습에 과도한 영향을 줍니다.\n",
    "\n",
    "- clip() 으로 잘라주면 나머지 대부분의 데이터 분포에 집중할 수 있습니다."
   ]
  },
  {
   "cell_type": "code",
   "execution_count": 12,
   "id": "11fd119f",
   "metadata": {},
   "outputs": [
    {
     "name": "stdout",
     "output_type": "stream",
     "text": [
      "인코딩 후 전체 컬럼 수: 265\n",
      "새로 만든 피처: ['TotalSF', 'Age', 'RemodAge']\n"
     ]
    }
   ],
   "source": [
    "from sklearn.preprocessing import StandardScaler\n",
    "# --- 1. 범주형 변수 인코딩 ---\n",
    "# object 타입 전체를 더미 변수로 변환 (첫 번째 레벨은 기준치로 drop)\n",
    "cat_cols = house_df.select_dtypes(include=['object']).columns.tolist()\n",
    "house_df = pd.get_dummies(house_df, columns=cat_cols, drop_first=True)\n",
    "\n",
    "# # 8-2. 수치형 스케일링 ─ SalePrice 는 제외\n",
    "# num_cols = house_df.select_dtypes(include=['int64', 'float64']).columns\n",
    "# num_cols = [c for c in num_cols if c != 'SalePrice']\n",
    "\n",
    "# --- 3. 간단한 피처 엔지니어링 예시 ---\n",
    "#  - TotalSF: 지하(Finished) + 1층 거실 면적\n",
    "#  - Age: 판매연도에서 건축연도 차이\n",
    "#  - RemodAge: 판매연도에서 리모델링 연도 차이\n",
    "house_df['TotalSF']   = house_df['BsmtFinSF1'] + house_df['BsmtFinSF2'] + house_df['GrLivArea']\n",
    "house_df['Age']       = house_df['YrSold'] - house_df['YearBuilt']\n",
    "house_df['RemodAge']  = house_df['YrSold'] - house_df['YearRemodAdd']\n",
    "\n",
    "# 확인\n",
    "print(\"인코딩 후 전체 컬럼 수:\", house_df.shape[1])\n",
    "print(\"새로 만든 피처:\", ['TotalSF','Age','RemodAge'])"
   ]
  },
  {
   "cell_type": "markdown",
   "id": "b48c541e",
   "metadata": {},
   "source": [
    "# 학습 검증"
   ]
  },
  {
   "cell_type": "code",
   "execution_count": 13,
   "id": "bc8adc62",
   "metadata": {},
   "outputs": [
    {
     "name": "stdout",
     "output_type": "stream",
     "text": [
      "RMSLE: 6331.6364\n"
     ]
    }
   ],
   "source": [
    "# ======================================================================\n",
    "# 9. 학습·검증 & RMSLE 계산 (로그 공간에서 직접)\n",
    "\n",
    "from sklearn.model_selection import train_test_split\n",
    "from sklearn.linear_model import LinearRegression\n",
    "from sklearn.metrics import mean_squared_error\n",
    "import numpy as np\n",
    "\n",
    "# 9-1. y (log1p 변환된 SalePrice), X 분리\n",
    "y = house_df['SalePrice']              # 이미 log1p 변환된 값\n",
    "X = house_df.drop(columns=['SalePrice'])\n",
    "\n",
    "# 9-2. train / validation 분할\n",
    "X_train, X_val, y_train, y_val = train_test_split(\n",
    "    X, y, test_size=0.2, random_state=42\n",
    ")\n",
    "\n",
    "# 9-3. 모델 학습\n",
    "model = LinearRegression()\n",
    "model.fit(X_train, y_train)\n",
    "\n",
    "# 9-4. 예측 및 RMSLE (로그 공간에서 RMSE = RMSLE)\n",
    "y_pred_log = model.predict(X_val)\n",
    "rmsle = np.sqrt(mean_squared_error(y_val, y_pred_log))\n",
    "print(f\"RMSLE: {rmsle:.4f}\")"
   ]
  },
  {
   "cell_type": "code",
   "execution_count": 14,
   "id": "c94cbc5e",
   "metadata": {},
   "outputs": [
    {
     "name": "stdout",
     "output_type": "stream",
     "text": [
      "CV RMSLE (mean ± std): 0.1308 ± 0.0054\n",
      "[LightGBM] [Warning] Found whitespace in feature_names, replace with underlines\n",
      "[LightGBM] [Info] Auto-choosing col-wise multi-threading, the overhead of testing was 0.005899 seconds.\n",
      "You can set `force_col_wise=true` to remove the overhead.\n",
      "[LightGBM] [Info] Total Bins 4030\n",
      "[LightGBM] [Info] Number of data points in the train set: 934, number of used features: 167\n",
      "[LightGBM] [Warning] Found whitespace in feature_names, replace with underlines\n",
      "[LightGBM] [Info] Start training from score 12.007243\n",
      "Validation RMSLE: 0.1201\n"
     ]
    }
   ],
   "source": [
    "import lightgbm as lgb\n",
    "from lightgbm import LGBMRegressor\n",
    "from sklearn.metrics import mean_squared_error\n",
    "from sklearn.model_selection import train_test_split, KFold, cross_val_score\n",
    "import numpy as np\n",
    "\n",
    "# 데이터 준비 (앞서 만든 X, y 그대로)\n",
    "y = house_df['SalePrice']\n",
    "X = house_df.drop(columns=['SalePrice'])\n",
    "\n",
    "# 모델 정의\n",
    "lgbm = LGBMRegressor(\n",
    "    n_estimators=1000,\n",
    "    learning_rate=0.05,\n",
    "    num_leaves=31,\n",
    "    subsample=0.8,\n",
    "    colsample_bytree=0.8,\n",
    "    random_state=42\n",
    ")\n",
    "\n",
    "# 5-폴드 CV (neg_root_mean_squared_error → RMSLE)\n",
    "kf = KFold(n_splits=5, shuffle=True, random_state=42)\n",
    "cv_rmse = -cross_val_score(\n",
    "    lgbm, X, y,\n",
    "    cv=kf,\n",
    "    scoring='neg_root_mean_squared_error',\n",
    "    n_jobs=-1\n",
    ")\n",
    "print(f\"CV RMSLE (mean ± std): {cv_rmse.mean():.4f} ± {cv_rmse.std():.4f}\")\n",
    "\n",
    "# 학습/검증 세트 분할\n",
    "X_train, X_val, y_train, y_val = train_test_split(\n",
    "    X, y, test_size=0.2, random_state=42\n",
    ")\n",
    "\n",
    "# fit –> 콜백으로 early stopping 100회\n",
    "lgbm.fit(\n",
    "    X_train, y_train,\n",
    "    eval_set=[(X_val, y_val)],\n",
    "    eval_metric='rmse',\n",
    "    callbacks=[lgb.early_stopping(100, verbose=False)]\n",
    ")\n",
    "\n",
    "# 예측 및 RMSLE\n",
    "y_pred_log = lgbm.predict(X_val)\n",
    "rmsle_val = np.sqrt(mean_squared_error(y_val, y_pred_log))\n",
    "print(f\"Validation RMSLE: {rmsle_val:.4f}\")\n"
   ]
  },
  {
   "cell_type": "code",
   "execution_count": 15,
   "id": "ee101ef4",
   "metadata": {},
   "outputs": [],
   "source": [
    "# ───────── ❷ LightGBM Native Categorical ─────────\n",
    "cat_cols = house_df.select_dtypes(include='object').columns\n",
    "\n",
    "# train\n",
    "for c in cat_cols:\n",
    "    house_df[c] = house_df[c].astype('category')\n",
    "\n",
    "# test  (이미 로드한 뒤라면 같은 변환 필요)\n",
    "for c in cat_cols:\n",
    "    test_df[c] = test_df[c].astype('category')\n"
   ]
  },
  {
   "cell_type": "code",
   "execution_count": 16,
   "id": "e714ac2f",
   "metadata": {},
   "outputs": [],
   "source": [
    "# # ──────────────────── 10-TUNE : LightGBM 하이퍼파라미터 튜닝 ────────────────────\n",
    "# import lightgbm as lgb\n",
    "# from lightgbm import LGBMRegressor\n",
    "# from sklearn.model_selection import RandomizedSearchCV, KFold\n",
    "# from sklearn.metrics import make_scorer, mean_squared_error\n",
    "# import numpy as np\n",
    "\n",
    "# # 1) 사용자 정의 RMSLE 스코어러 (로그 공간의 RMSE)\n",
    "# def rmsle_log(y_true, y_pred):\n",
    "#     return np.sqrt(mean_squared_error(y_true, y_pred))\n",
    "\n",
    "# rmsle_scorer = make_scorer(rmsle_log, greater_is_better=False)  # neg 값 반환\n",
    "\n",
    "# # 2) 파라미터 분포 설정 (LightGBM 공식 권장 범위 중심)\n",
    "# param_dist = {\n",
    "#     \"num_leaves\":           np.arange(20, 80, 4),\n",
    "#     \"max_depth\":            np.append(np.arange(3, 11), -1),       # -1 : 제한 없음\n",
    "#     \"learning_rate\":        np.linspace(0.01, 0.1, 10),\n",
    "#     \"n_estimators\":         np.arange(400, 1600, 200),\n",
    "#     \"subsample\":            np.linspace(0.6, 1.0, 5),\n",
    "#     \"colsample_bytree\":     np.linspace(0.6, 1.0, 5),\n",
    "#     \"min_child_samples\":    np.arange(5, 40, 5),\n",
    "#     \"reg_alpha\":            np.logspace(-3, 1, 5),  # L1\n",
    "#     \"reg_lambda\":           np.logspace(-3, 1, 5)   # L2\n",
    "# }\n",
    "\n",
    "# # 3) 모델·CV·탐색기 정의\n",
    "# lgbm_base = LGBMRegressor(\n",
    "#     random_state=42,\n",
    "#     objective=\"regression\",\n",
    "#     metric=\"rmse\",\n",
    "#     # 큰 n_estimators 를 주고 early_stopping 으로 실제 tree 수를 줄일 수도 있음\n",
    "# )\n",
    "\n",
    "# kf = KFold(n_splits=5, shuffle=True, random_state=42)\n",
    "\n",
    "# search = RandomizedSearchCV(\n",
    "#     estimator=lgbm_base,\n",
    "#     param_distributions=param_dist,\n",
    "#     n_iter=30,                # 탐색 횟수 (시간 여유 있으면 ↑)\n",
    "#     scoring=rmsle_scorer,     # 음수 RMSLE\n",
    "#     cv=kf,\n",
    "#     verbose=2,\n",
    "#     n_jobs=-1,                # 가능한 모든 CPU 사용\n",
    "#     random_state=42\n",
    "# )\n",
    "\n",
    "# # 4) 탐색 실행\n",
    "# search.fit(X, y)   # X, y 는 직전 셀에서 사용한 전처리 완료 데이터\n",
    "\n",
    "# print(\"\\nBest RMSLE (CV):\", -search.best_score_)\n",
    "# print(\"Best Params:\\n\", search.best_params_)\n",
    "\n",
    "# # 5) 최적 모델을 검증 세트에 적용해 점수 확인\n",
    "# best_lgbm = search.best_estimator_\n",
    "# X_train, X_val, y_train, y_val = train_test_split(\n",
    "#     X, y, test_size=0.2, random_state=42\n",
    "# )\n",
    "# best_lgbm.fit(X_train, y_train,\n",
    "#               eval_set=[(X_val, y_val)],\n",
    "#               eval_metric=\"rmse\",\n",
    "#               callbacks=[lgb.early_stopping(100, verbose=False)]\n",
    "# )\n",
    "\n",
    "# y_pred_log = best_lgbm.predict(X_val)\n",
    "# rmsle_val = rmsle_log(y_val, y_pred_log)\n",
    "# print(\"Validation RMSLE:\", rmsle_val)\n",
    "# # ────────────────────────────────────────────────────────────────────────────────\n"
   ]
  },
  {
   "cell_type": "code",
   "execution_count": 17,
   "id": "8537c59f",
   "metadata": {},
   "outputs": [
    {
     "name": "stdout",
     "output_type": "stream",
     "text": [
      "[LightGBM] [Warning] Found whitespace in feature_names, replace with underlines\n",
      "[LightGBM] [Info] Auto-choosing col-wise multi-threading, the overhead of testing was 0.003313 seconds.\n",
      "You can set `force_col_wise=true` to remove the overhead.\n",
      "[LightGBM] [Info] Total Bins 4076\n",
      "[LightGBM] [Info] Number of data points in the train set: 934, number of used features: 189\n",
      "[LightGBM] [Info] Start training from score 12.007243\n",
      "Blend RMSLE : 0.12254002245840376\n"
     ]
    }
   ],
   "source": [
    "from sklearn.metrics import mean_squared_error\n",
    "from lightgbm import LGBMRegressor\n",
    "from xgboost import XGBRegressor\n",
    "import numpy as np\n",
    "\n",
    "# ① 없으면 직접 지정\n",
    "best_params = {\n",
    "    'num_leaves': 56,\n",
    "    'max_depth': -1,\n",
    "    'learning_rate': 0.03,\n",
    "    'n_estimators': 1200,\n",
    "    'subsample': 0.8,\n",
    "    'colsample_bytree': 0.8,\n",
    "    'min_child_samples': 10,\n",
    "    'reg_alpha': 0.001,\n",
    "    'reg_lambda': 0.1,\n",
    "    'random_state': 42\n",
    "}\n",
    "\n",
    "# ② LightGBM\n",
    "lgbm = LGBMRegressor(**best_params)\n",
    "lgbm.fit(X_train, y_train)\n",
    "pred_lgb_log = lgbm.predict(X_val)\n",
    "\n",
    "# ③ XGBoost\n",
    "xgb = XGBRegressor(\n",
    "    n_estimators=1200,\n",
    "    learning_rate=0.05,\n",
    "    max_depth=4,\n",
    "    subsample=0.8,\n",
    "    colsample_bytree=0.8,\n",
    "    objective='reg:squarederror',\n",
    "    random_state=42,\n",
    "    tree_method='hist'\n",
    ")\n",
    "xgb.fit(X_train, y_train,\n",
    "        eval_set=[(X_val, y_val)],\n",
    "        \n",
    "        verbose=False)\n",
    "pred_xgb_log = xgb.predict(X_val)\n",
    "\n",
    "# ④ 단순 평균 블렌딩\n",
    "pred_blend_log = 0.5 * pred_lgb_log + 0.5 * pred_xgb_log\n",
    "rmsle_blend = np.sqrt(mean_squared_error(y_val, pred_blend_log))\n",
    "print(\"Blend RMSLE :\", rmsle_blend)\n"
   ]
  },
  {
   "cell_type": "code",
   "execution_count": 18,
   "id": "8c939533",
   "metadata": {},
   "outputs": [],
   "source": [
    "# (한 번만 실행)  ──────────────────────────────────────────────\n",
    "# house_df : train.csv 에 전처리·파생 피처까지 끝낸 DataFrame\n",
    "train_medians = house_df.select_dtypes('number').median()\n"
   ]
  },
  {
   "cell_type": "code",
   "execution_count": 20,
   "id": "02f27f2f",
   "metadata": {},
   "outputs": [
    {
     "name": "stdout",
     "output_type": "stream",
     "text": [
      "테스트에 누락된 log_cols: {'SalePrice'}\n"
     ]
    },
    {
     "name": "stdout",
     "output_type": "stream",
     "text": [
      "[LightGBM] [Warning] Found whitespace in feature_names, replace with underlines\n",
      "[LightGBM] [Info] Auto-choosing row-wise multi-threading, the overhead of testing was 0.016959 seconds.\n",
      "You can set `force_row_wise=true` to remove the overhead.\n",
      "And if memory is not enough, you can set `force_col_wise=true`.\n",
      "[LightGBM] [Info] Total Bins 4019\n",
      "[LightGBM] [Info] Number of data points in the train set: 934, number of used features: 159\n",
      "[LightGBM] [Info] Start training from score 12.020765\n",
      "[LightGBM] [Warning] Found whitespace in feature_names, replace with underlines\n",
      "[LightGBM] [Info] Auto-choosing row-wise multi-threading, the overhead of testing was 0.016352 seconds.\n",
      "You can set `force_row_wise=true` to remove the overhead.\n",
      "And if memory is not enough, you can set `force_col_wise=true`.\n",
      "[LightGBM] [Info] Total Bins 4022\n",
      "[LightGBM] [Info] Number of data points in the train set: 935, number of used features: 157\n",
      "[LightGBM] [Info] Start training from score 12.030279\n",
      "[LightGBM] [Warning] Found whitespace in feature_names, replace with underlines\n",
      "[LightGBM] [Info] Auto-choosing row-wise multi-threading, the overhead of testing was 0.015517 seconds.\n",
      "You can set `force_row_wise=true` to remove the overhead.\n",
      "And if memory is not enough, you can set `force_col_wise=true`.\n",
      "[LightGBM] [Info] Total Bins 4004\n",
      "[LightGBM] [Info] Number of data points in the train set: 935, number of used features: 156\n",
      "[LightGBM] [Info] Start training from score 12.024801\n",
      "[LightGBM] [Warning] Found whitespace in feature_names, replace with underlines\n",
      "[LightGBM] [Info] Auto-choosing row-wise multi-threading, the overhead of testing was 0.014350 seconds.\n",
      "You can set `force_row_wise=true` to remove the overhead.\n",
      "And if memory is not enough, you can set `force_col_wise=true`.\n",
      "[LightGBM] [Info] Total Bins 4030\n",
      "[LightGBM] [Info] Number of data points in the train set: 934, number of used features: 167\n",
      "[LightGBM] [Info] Start training from score 12.007243\n"
     ]
    }
   ],
   "source": [
    "import pandas as pd\n",
    "import numpy as np\n",
    "\n",
    "# 1) test 데이터 로드\n",
    "test_df_raw = pd.read_csv('/Users/kenny/데싸4기/Project/Quest 07/test.csv')\n",
    "id_col = test_df_raw['Id']  # 제출 시 다시 붙일 컬럼\n",
    "test_df = test_df_raw.drop(columns=['Id'])\n",
    "\n",
    "# 삭제할 컬럼 리스트\n",
    "drop_cols = ['PoolQC','Alley','Fence','FireplaceQu',\n",
    "             'MiscFeature','MasVnrType','Id']\n",
    "\n",
    "# 2) train 단계와 동일한 전처리\n",
    "# ─ 컬럼 삭제\n",
    "test_df.drop(columns=drop_cols, errors='ignore', inplace=True)\n",
    "\n",
    "# ─ 결측치 채우기\n",
    "for c in test_df.select_dtypes(include='number').columns:\n",
    "    test_df[c].fillna(train_medians[c], inplace=True)\n",
    "for c in test_df.select_dtypes(include='object').columns:\n",
    "    test_df[c].fillna('None', inplace=True)\n",
    "\n",
    "# ─ 로그 변환 · 캡핑 (존재하는 컬럼만)\n",
    "common_log_cols = [c for c in log_cols if c in test_df.columns]\n",
    "test_df[common_log_cols] = test_df[common_log_cols].apply(np.log1p)\n",
    "\n",
    "# 캡핑: 존재하는 컬럼에만 적용\n",
    "for c in common_log_cols:\n",
    "    lb = lower_bounds.get(c, None)\n",
    "    ub = upper_bounds.get(c, None)\n",
    "    if lb is not None and ub is not None:\n",
    "        test_df[c] = test_df[c].clip(lb, ub)\n",
    "\n",
    "# 누락된 log_cols 확인\n",
    "missing_log = set(log_cols) - set(common_log_cols)\n",
    "if missing_log:\n",
    "    print(\"테스트에 누락된 log_cols:\", missing_log)\n",
    "\n",
    "# ─ 파생 피처 6개 생성\n",
    "test_df['TotalSF']      = test_df['TotalBsmtSF'] + test_df['1stFlrSF'] + test_df['2ndFlrSF']\n",
    "test_df['TotalBath']    = (test_df['FullBath']\n",
    "                           + 0.5 * test_df['HalfBath']\n",
    "                           + test_df['BsmtFullBath']\n",
    "                           + 0.5 * test_df['BsmtHalfBath'])\n",
    "test_df['Age']          = test_df['YrSold'] - test_df['YearBuilt']\n",
    "test_df['RemodAge']     = test_df['YrSold'] - test_df['YearRemodAdd']\n",
    "test_df['IsRemod']      = (test_df['YearBuilt'] != test_df['YearRemodAdd']).astype(int)\n",
    "test_df['Qual_x_GrLiv'] = test_df['OverallQual'] * test_df['GrLivArea']\n",
    "\n",
    "# ─ 원-핫 인코딩 및 열 정렬\n",
    "test_df = pd.get_dummies(test_df, columns=cat_cols, drop_first=True)\n",
    "\n",
    "# train에서 쓰던 X.columns 기준으로 빠진 열 채우기\n",
    "missing_cols = set(X.columns) - set(test_df.columns)\n",
    "for col in missing_cols:\n",
    "    test_df[col] = 0\n",
    "\n",
    "# 열 순서 고정\n",
    "test_df = test_df[X.columns]\n"
   ]
  },
  {
   "cell_type": "code",
   "execution_count": 21,
   "id": "f8dde2c3",
   "metadata": {},
   "outputs": [
    {
     "name": "stdout",
     "output_type": "stream",
     "text": [
      "[LightGBM] [Warning] Found whitespace in feature_names, replace with underlines\n",
      "[LightGBM] [Info] Auto-choosing row-wise multi-threading, the overhead of testing was 0.023297 seconds.\n",
      "You can set `force_row_wise=true` to remove the overhead.\n",
      "And if memory is not enough, you can set `force_col_wise=true`.\n",
      "[LightGBM] [Info] Total Bins 4012\n",
      "[LightGBM] [Info] Number of data points in the train set: 934, number of used features: 159\n",
      "[LightGBM] [Info] Start training from score 12.019908\n"
     ]
    }
   ],
   "source": [
    "# ───────── ❶ 테스트용 Feature Engineering ─────────\n",
    "# train 쪽과 변수명이 같도록, house_df → test_df 로만 바꾼 버전\n",
    "test_df['TotalSF']              = (\n",
    "    test_df['TotalBsmtSF'] + test_df['1stFlrSF'] + test_df['2ndFlrSF']\n",
    ")\n",
    "test_df['TotalPorchSF']         = (\n",
    "    test_df[['OpenPorchSF','EnclosedPorch','3SsnPorch','ScreenPorch']].sum(axis=1)\n",
    ")\n",
    "test_df['HouseAge']             = 2025 - test_df['YearBuilt']\n",
    "test_df['RemodAge']             = 2025 - test_df['YearRemodAdd']\n",
    "test_df['OverallQual_GrLivArea'] = (\n",
    "    test_df['OverallQual'] * test_df['GrLivArea']\n",
    ")\n"
   ]
  },
  {
   "cell_type": "code",
   "execution_count": null,
   "id": "5885be50",
   "metadata": {},
   "outputs": [],
   "source": []
  },
  {
   "cell_type": "code",
   "execution_count": 22,
   "id": "8280a668",
   "metadata": {},
   "outputs": [
    {
     "ename": "NameError",
     "evalue": "name 'best_lgbm' is not defined",
     "output_type": "error",
     "traceback": [
      "\u001b[0;31m---------------------------------------------------------------------------\u001b[0m",
      "\u001b[0;31mNameError\u001b[0m                                 Traceback (most recent call last)",
      "Cell \u001b[0;32mIn[22], line 2\u001b[0m\n\u001b[1;32m      1\u001b[0m \u001b[38;5;66;03m# log-스케일 예측\u001b[39;00m\n\u001b[0;32m----> 2\u001b[0m test_pred_log \u001b[38;5;241m=\u001b[39m best_lgbm\u001b[38;5;241m.\u001b[39mpredict(test_df)\n\u001b[1;32m      4\u001b[0m \u001b[38;5;66;03m# 원래 스케일(SalePrice)로 역변환\u001b[39;00m\n\u001b[1;32m      5\u001b[0m test_pred \u001b[38;5;241m=\u001b[39m np\u001b[38;5;241m.\u001b[39mexpm1(test_pred_log)\n",
      "\u001b[0;31mNameError\u001b[0m: name 'best_lgbm' is not defined"
     ]
    }
   ],
   "source": [
    "# log-스케일 예측\n",
    "test_pred_log = best_lgbm.predict(test_df)\n",
    "\n",
    "# 원래 스케일(SalePrice)로 역변환\n",
    "test_pred = np.expm1(test_pred_log)"
   ]
  },
  {
   "cell_type": "code",
   "execution_count": 32,
   "id": "ae00af4e",
   "metadata": {},
   "outputs": [
    {
     "name": "stdout",
     "output_type": "stream",
     "text": [
      "[LightGBM] [Warning] Found whitespace in feature_names, replace with underlines\n",
      "[LightGBM] [Info] Auto-choosing row-wise multi-threading, the overhead of testing was 0.002071 seconds.\n",
      "You can set `force_row_wise=true` to remove the overhead.\n",
      "And if memory is not enough, you can set `force_col_wise=true`.\n",
      "[LightGBM] [Info] Total Bins 3530\n",
      "[LightGBM] [Info] Number of data points in the train set: 1168, number of used features: 176\n",
      "[LightGBM] [Info] Start training from score 12.020602\n",
      "✅  submission_blend.csv 저장 완료 → /Users/kenny/submission_blend.csv\n"
     ]
    }
   ],
   "source": [
    "# ─────────────────── 최종 셀: 모델 학습 → 제출 파일 생성 ───────────────────\n",
    "from lightgbm import LGBMRegressor\n",
    "from xgboost import XGBRegressor\n",
    "from sklearn.metrics import mean_squared_error\n",
    "import numpy as np\n",
    "import pandas as pd\n",
    "import os\n",
    "\n",
    "# 1) 전체 train 데이터로 두 모델 다시 학습\n",
    "lgbm_full = LGBMRegressor(**best_params)\n",
    "lgbm_full.fit(X, y)\n",
    "\n",
    "xgb_full = XGBRegressor(\n",
    "    n_estimators=1200, learning_rate=0.05, max_depth=4,\n",
    "    subsample=0.8, colsample_bytree=0.8,\n",
    "    objective='reg:squarederror', random_state=42,\n",
    "    tree_method='hist'\n",
    ")\n",
    "xgb_full.fit(X, y)\n",
    "\n",
    "# 2) test 예측 (log-스케일) → 0.5 × 0.5 블렌딩\n",
    "pred_test_log = 0.5 * lgbm_full.predict(test_df) + \\\n",
    "                0.5 * xgb_full.predict(test_df)\n",
    "\n",
    "# 3) 역변환(Log → 원 단위) 후 CSV 생성\n",
    "submission = pd.DataFrame({\n",
    "    \"Id\": id_col,\n",
    "    \"SalePrice\": np.expm1(pred_test_log)\n",
    "})\n",
    "\n",
    "save_path = os.path.join(os.getcwd(), \"submission_blend2.csv\")\n",
    "submission.to_csv(save_path, index=False)\n",
    "print(f\"✅  submission_blend2.csv 저장 완료 → {save_path}\")\n",
    "# ───────────────────────────────────────────────────────────────────────────\n"
   ]
  },
  {
   "cell_type": "code",
   "execution_count": 21,
   "id": "72d7226c",
   "metadata": {},
   "outputs": [],
   "source": [
    "\n"
   ]
  },
  {
   "cell_type": "code",
   "execution_count": null,
   "id": "a6a0d587",
   "metadata": {},
   "outputs": [],
   "source": []
  }
 ],
 "metadata": {
  "kernelspec": {
   "display_name": "Python 3 (ipykernel)",
   "language": "python",
   "name": "python3"
  },
  "language_info": {
   "codemirror_mode": {
    "name": "ipython",
    "version": 3
   },
   "file_extension": ".py",
   "mimetype": "text/x-python",
   "name": "python",
   "nbconvert_exporter": "python",
   "pygments_lexer": "ipython3",
   "version": "3.11.7"
  }
 },
 "nbformat": 4,
 "nbformat_minor": 5
}
